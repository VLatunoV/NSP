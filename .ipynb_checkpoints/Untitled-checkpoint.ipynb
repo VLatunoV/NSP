{
 "cells": [
  {
   "cell_type": "markdown",
   "metadata": {},
   "source": [
    "# <div style=\"text-align: center\">Nurse Scheduling Problem</div>"
   ]
  },
  {
   "cell_type": "markdown",
   "metadata": {},
   "source": [
    "## <div style=\"text-align: right\">Валентин Латунов </div>\n",
    "## <div style=\"text-align: center\">Мартин Георгиев </div>\n",
    "## Иван Велков"
   ]
  },
  {
   "cell_type": "markdown",
   "metadata": {},
   "source": [
    "### Идеята на NSP е да бъде направен оптимален график за медицински сестри в болница. Обобщено е да няма пациенти оставени без грижи като сестрите трябва да имат минимално количество извънреден труд. \n",
    "\n",
    "### Към това може да се добавят някои ограничения като седмици, за които ще правим графика, време на смяната, брой поредни смени, извънреден труд и др. \n",
    "\n"
   ]
  },
  {
   "cell_type": "markdown",
   "metadata": {
    "collapsed": true
   },
   "source": [
    "### Нашата идея е да използваме Simulated Annealing, коео представлява:\n",
    "   #### 1. Валидна начална конфигурация\n",
    "   #### 2. Случайно пренареждане \n",
    "   #### 3. Целева функция \n",
    "   #### 4. Закален график xD"
   ]
  },
  {
   "cell_type": "markdown",
   "metadata": {},
   "source": [
    "### TODO Още някакви обяснения за модела и алгоритъма + какви са резултатите "
   ]
  },
  {
   "cell_type": "markdown",
   "metadata": {},
   "source": [
    "### За сравнение ползвахме комерсиален солвър - размаза ни отвсяде, RIP стохастика"
   ]
  }
 ],
 "metadata": {
  "kernelspec": {
   "display_name": "Python 3",
   "language": "python",
   "name": "python3"
  },
  "language_info": {
   "codemirror_mode": {
    "name": "ipython",
    "version": 3
   },
   "file_extension": ".py",
   "mimetype": "text/x-python",
   "name": "python",
   "nbconvert_exporter": "python",
   "pygments_lexer": "ipython3",
   "version": "3.6.2"
  }
 },
 "nbformat": 4,
 "nbformat_minor": 2
}
